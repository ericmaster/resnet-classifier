{
 "cells": [
  {
   "cell_type": "markdown",
   "id": "bd268f86",
   "metadata": {},
   "source": [
    "# ResNet-50 usando PyTorch Lightning\n",
    "## Objetivos\n",
    "\n",
    "- Importar un modelo CNN complejo\n",
    "- Entrenar el modelo para clasificacion de imagenes\n"
   ]
  },
  {
   "cell_type": "markdown",
   "id": "58e1ae1d",
   "metadata": {},
   "source": [
    "## Instalar e importar bibliotecas\n"
   ]
  },
  {
   "cell_type": "code",
   "execution_count": 1,
   "id": "82181f02",
   "metadata": {},
   "outputs": [],
   "source": [
    "import numpy as np\n",
    "import os\n",
    "%matplotlib inline\n",
    "import matplotlib.pyplot as plt\n",
    "import time\n",
    "import pandas as pd\n",
    "\n",
    "\n",
    "import torch.optim as optim\n",
    "from torchmetrics import Accuracy\n",
    "from torchvision import datasets, transforms, models\n",
    "\n",
    "import torch\n",
    "import torch.nn as nn\n",
    "import torch.nn.functional as F\n",
    "import torchvision\n",
    "import torchvision.transforms as transforms\n",
    "import pytorch_lightning as pl\n",
    "import torchmetrics\n",
    "\n",
    "from torchvision.models import resnet50, ResNet50_Weights \n",
    "from collections import Counter\n",
    "from torchvision import datasets\n",
    "from torchvision import transforms\n",
    "from torch.utils.data import DataLoader\n",
    "from torch.utils.data.dataset import random_split\n",
    "\n",
    "from pytorch_lightning.callbacks import ModelCheckpoint, EarlyStopping\n",
    "from pytorch_lightning.loggers import CSVLogger\n",
    "from pytorch_lightning.callbacks import TQDMProgressBar, RichProgressBar\n"
   ]
  },
  {
   "cell_type": "code",
   "execution_count": 2,
   "id": "7c4a69b0",
   "metadata": {},
   "outputs": [],
   "source": [
    "BATCH_SIZE = 32\n",
    "NUM_EPOCHS = 5\n",
    "LEARNING_RATE = 0.001\n",
    "NUM_WORKERS = 4\n",
    "CLASES = 10"
   ]
  },
  {
   "cell_type": "code",
   "execution_count": 3,
   "id": "8f3fdfc0",
   "metadata": {},
   "outputs": [
    {
     "name": "stdout",
     "output_type": "stream",
     "text": [
      "Modo depuración activado: usando dataset ligero y parámetros reducidos.\n"
     ]
    }
   ],
   "source": [
    "DEBUG_MODE = True  # True Debug, False Full\n",
    " \n",
    "if DEBUG_MODE:\n",
    "    BATCH_SIZE = 4\n",
    "    NUM_EPOCHS = 2\n",
    "    print(\"Modo depuración activado: usando dataset ligero y parámetros reducidos.\")\n",
    "else:\n",
    "    BATCH_SIZE = 16\n",
    "    NUM_EPOCHS = 60\n",
    "    print(\"Modo completo activado: usando configuración completa.\")\n",
    " "
   ]
  },
  {
   "cell_type": "markdown",
   "id": "3b249569",
   "metadata": {},
   "source": [
    "## Preparación de la base de datos:\n",
    "\n",
    "### Fashion MNIST contiene 60k RGB imágenes de 32x32x3 pixeles distribuidas en 10 clases.\n",
    "\n",
    "*   Grupo de entrenamiento: 50K imágenes\n",
    "*   Grupo de evaluación: 10k imágenes"
   ]
  },
  {
   "cell_type": "code",
   "execution_count": 4,
   "id": "ee4c7bdf",
   "metadata": {},
   "outputs": [],
   "source": [
    "# Descargamos dataset\n",
    " \n",
    "if DEBUG_MODE:\n",
    "    train_dataset = torchvision.datasets.FashionMNIST(\n",
    "        root=\"./data\", train=True, transform=transforms.ToTensor(), download=True)\n",
    " \n",
    "    test_dataset = datasets.FashionMNIST(\n",
    "        root=\"./data\", train=False, transform=transforms.ToTensor(), download=True)\n",
    "else:\n",
    "    train_dataset = torchvision.datasets.FashionMNIST(\n",
    "        root=\"./data\", train=True, transform=transforms.ToTensor(), download=True)\n",
    " \n",
    "    test_dataset = datasets.FashionMNIST(\n",
    "        root=\"./data\", train=False, transform=transforms.ToTensor(), download=True)"
   ]
  },
  {
   "cell_type": "code",
   "execution_count": 5,
   "id": "ab04e7c7",
   "metadata": {},
   "outputs": [],
   "source": [
    "# Definimos dataloaders para los datasets\n",
    "\n",
    "train_loader = DataLoader(dataset=train_dataset,\n",
    "                          batch_size=BATCH_SIZE,\n",
    "                          num_workers=NUM_WORKERS,\n",
    "                          drop_last=False, # ignora el último batch si el número de muestras no son divisibles para el tamaño de batch\n",
    "                          shuffle=True)\n",
    "\n",
    "test_loader = DataLoader(dataset=test_dataset,\n",
    "                          batch_size=BATCH_SIZE,\n",
    "                          num_workers=NUM_WORKERS,\n",
    "                          drop_last=False,\n",
    "                          shuffle=False)"
   ]
  },
  {
   "cell_type": "code",
   "execution_count": 6,
   "id": "f8283e58",
   "metadata": {},
   "outputs": [
    {
     "name": "stdout",
     "output_type": "stream",
     "text": [
      "Número de muestras de entrenamiento: 60000\n",
      "Número de muestras de evaluación: 10000\n"
     ]
    }
   ],
   "source": [
    "print(\"Número de muestras de entrenamiento:\", len(train_dataset))\n",
    "print(\"Número de muestras de evaluación:\", len(test_dataset))\n"
   ]
  },
  {
   "cell_type": "code",
   "execution_count": 7,
   "id": "d0f8f057",
   "metadata": {},
   "outputs": [
    {
     "name": "stdout",
     "output_type": "stream",
     "text": [
      "1000\n"
     ]
    }
   ],
   "source": [
    "# Create a slice: e.g., first 1000 samples\n",
    "subset = torch.utils.data.Subset(train_dataset, range(1000))\n",
    " \n",
    "# Now you can use `subset` like a normal dataset\n",
    "print(len(subset))  # Output: 1000"
   ]
  },
  {
   "cell_type": "code",
   "execution_count": 8,
   "id": "7c08ba35",
   "metadata": {},
   "outputs": [
    {
     "name": "stdout",
     "output_type": "stream",
     "text": [
      "Número de iteraciones por época: 15000\n"
     ]
    }
   ],
   "source": [
    "print(\"Número de iteraciones por época:\", len(train_loader))\n",
    "# 1563*32 = 50000\n",
    "# 3152*16 = 50000"
   ]
  },
  {
   "cell_type": "code",
   "execution_count": 9,
   "id": "d5d30fe5",
   "metadata": {},
   "outputs": [
    {
     "data": {
      "image/png": "[encoded data removed]",
      "text/plain": [
       "<Figure size 800x800 with 1 Axes>"
      ]
     },
     "metadata": {},
     "output_type": "display_data"
    }
   ],
   "source": [
    "# Visualización de imágenes\n",
    "\n",
    "for images, labels in train_loader:\n",
    "    break\n",
    "\n",
    "plt.figure(figsize=(8, 8))\n",
    "plt.axis(\"off\")\n",
    "plt.title(\"Imágenes de entrenamiento\")\n",
    "plt.imshow(np.transpose(torchvision.utils.make_grid(\n",
    "    images[:64],\n",
    "    padding=2,\n",
    "    normalize=True),\n",
    "    (1, 2, 0)))\n",
    "plt.show()"
   ]
  },
  {
   "cell_type": "code",
   "execution_count": 10,
   "id": "87566bc8",
   "metadata": {},
   "outputs": [
    {
     "name": "stdout",
     "output_type": "stream",
     "text": [
      "Dimensión de entrada: torch.Size([4, 1, 28, 28])\n"
     ]
    }
   ],
   "source": [
    "# Dimensión de cada imagen\n",
    "print(\"Dimensión de entrada:\", images.shape) # (batch_size, channels_in, W, H)"
   ]
  },
  {
   "cell_type": "code",
   "execution_count": 11,
   "id": "3f0f6803",
   "metadata": {},
   "outputs": [],
   "source": [
    "class FMINST_DataModule(pl.LightningDataModule):\n",
    "    def __init__(self, data_path=\"./\"):\n",
    "        super().__init__()\n",
    "        self.data_path = data_path\n",
    "\n",
    "    def prepare_data(self): # Método prepare_data es usado para pasos que van a ser ejecutados solo una vez, como descargar el dataset y definir las transformaciones\n",
    "\n",
    "        #datasets.CIFAR10(root=self.data_path, download=True)\n",
    "        datasets.FashionMNIST(\n",
    "            root=self.data_path,\n",
    "            download=True,\n",
    "        )\n",
    "\n",
    "        self.train_transform = torchvision.transforms.Compose([\n",
    "            torchvision.transforms.Grayscale(num_output_channels=3),\n",
    "            torchvision.transforms.GaussianBlur(kernel_size=3),\n",
    "            torchvision.transforms.RandomHorizontalFlip(p=0.30),\n",
    "            torchvision.transforms.RandomVerticalFlip(p=0.30),\n",
    "            torchvision.transforms.RandomRotation(30),\n",
    "            torchvision.transforms.Resize((256, 256)),\n",
    "            torchvision.transforms.RandomCrop((224, 224)),\n",
    "            torchvision.transforms.ToTensor(),\n",
    "            torchvision.transforms.Normalize(\n",
    "                mean=[0.485]*3, std=[0.229]*3)])\n",
    "\n",
    "        self.test_transform = torchvision.transforms.Compose([\n",
    "            torchvision.transforms.Grayscale(num_output_channels=3),\n",
    "            torchvision.transforms.Resize((224, 224)),\n",
    "            torchvision.transforms.ToTensor(),\n",
    "            torchvision.transforms.Normalize(\n",
    "                mean=[0.485]*3, std=[0.229]*3)])\n",
    "               \n",
    "        return\n",
    "\n",
    "    def setup(self, stage=None):   # cargamos el dataset\n",
    "        train = datasets.FashionMNIST(\n",
    "            root=self.data_path,\n",
    "            train=True,\n",
    "            transform=self.train_transform,\n",
    "            download=False,\n",
    "        )\n",
    "\n",
    "        self.test = datasets.FashionMNIST(\n",
    "            root=self.data_path,\n",
    "            train=False, # False para obtener el grupo de test\n",
    "            transform=self.test_transform,\n",
    "            download=False,\n",
    "        )\n",
    "\n",
    "        # Dividir el grupo de entrenamiento original en entrenamiento y validación\n",
    "\n",
    "        self.train, self.valid = random_split(train, lengths=[int(len(train)*0.9), int(len(train)*0.1)])\n",
    "        self.train = torch.utils.data.Subset(self.train, range(100))\n",
    "        self.valid = torch.utils.data.Subset(self.valid, range(50))\n",
    "\n",
    "\n",
    "        print(\"Muestras de entrenamiento:\", len(self.train))\n",
    "        print(\"Muestras de validación:\", len(self.valid))\n",
    "        print(\"Muestras de evaluación:\", len(self.test))\n",
    "\n",
    "    def train_dataloader(self):\n",
    "        train_loader = DataLoader(\n",
    "            dataset=self.train,\n",
    "            batch_size=BATCH_SIZE,\n",
    "            drop_last=True,\n",
    "            shuffle=True,\n",
    "            num_workers=NUM_WORKERS,\n",
    "        )\n",
    "        return train_loader\n",
    "\n",
    "    def val_dataloader(self):\n",
    "        valid_loader = DataLoader(\n",
    "            dataset=self.valid,\n",
    "            batch_size=BATCH_SIZE,\n",
    "            drop_last=False,\n",
    "            shuffle=False,\n",
    "            num_workers=NUM_WORKERS,\n",
    "        )\n",
    "        return valid_loader\n",
    "\n",
    "    def test_dataloader(self):\n",
    "        test_loader = DataLoader(\n",
    "            dataset=self.test,\n",
    "            batch_size=BATCH_SIZE,\n",
    "            drop_last=False,\n",
    "            shuffle=False,\n",
    "            num_workers=NUM_WORKERS,\n",
    "        )\n",
    "        return test_loader"
   ]
  },
  {
   "cell_type": "code",
   "execution_count": 12,
   "id": "1349f8c9",
   "metadata": {},
   "outputs": [],
   "source": [
    "# Inicizalización de DataModule\n",
    "\n",
    "torch.manual_seed(47)  # especificamos un random seed para reproducibilidad de inicializaciones aleatorias\n",
    "data_module = FMINST_DataModule(data_path='./data')"
   ]
  },
  {
   "cell_type": "code",
   "execution_count": 13,
   "id": "ccbba9e6",
   "metadata": {},
   "outputs": [],
   "source": [
    "# pytorch_model = torch.hub.load('pytorch/vision:v0.11.0', 'resnet50', weights=\"IMAGENET1K_V1\") \n",
    "# o \"IMAGENET1K_V2\" según la versión)\n",
    "# modelo sin pre-entrenamiento"
   ]
  },
  {
   "cell_type": "code",
   "execution_count": 14,
   "id": "7eb1f25e",
   "metadata": {},
   "outputs": [],
   "source": [
    "# pytorch_model"
   ]
  },
  {
   "cell_type": "code",
   "execution_count": 15,
   "id": "a01d91ee",
   "metadata": {},
   "outputs": [],
   "source": [
    "# Inicialización del modulo lightning\n",
    "\n",
    "callback_check = ModelCheckpoint(save_top_k=1, mode=\"max\", monitor=\"valid_acc\") # guardamos el mejor modelo monitoreado en la acc de validación. Por qué no la de entrenamiento?\n",
    "\n",
    "callback_tqdm = RichProgressBar(leave=True)\n",
    "\n",
    "early_stop_callback = EarlyStopping(\n",
    "    monitor='valid_loss',           # Metric to monitor\n",
    "    min_delta=0.00,               # Minimum change to qualify as improvement\n",
    "    patience=10,                   # Number of epochs with no improvement after which training will stop\n",
    "    verbose=True,                 # Print messages when stopping\n",
    "    mode='min'                    # Direction of improvement ('min' for loss, 'max' for accuracy)\n",
    ")\n",
    "\n",
    "logger = CSVLogger(save_dir=\"logs/\", name=\"complex-cnn-fmnist\")"
   ]
  },
  {
   "cell_type": "code",
   "execution_count": 16,
   "id": "bae32e62",
   "metadata": {},
   "outputs": [],
   "source": [
    "class ResNet50TransferLearning(pl.LightningModule):\n",
    "    def __init__(self, num_classes=10, learning_rate=1e-3):\n",
    "        super().__init__()\n",
    "        self.save_hyperparameters()\n",
    " \n",
    "        # Load pre-trained ResNet50\n",
    "        self.model = models.resnet50(pretrained=True)\n",
    " \n",
    "        # Modify the first layer to accept 3-channel input (already handled via Grayscale(3))\n",
    "        # Modify the final classifier layer\n",
    "        in_features = self.model.fc.in_features\n",
    "        self.model.fc = nn.Linear(in_features, num_classes)\n",
    "\n",
    "        for param in self.model.parameters():\n",
    "            param.requires_grad = False\n",
    "        for param in self.model.fc.parameters():\n",
    "            param.requires_grad = True\n",
    " \n",
    "        # Loss and metric\n",
    "        self.criterion = nn.CrossEntropyLoss()\n",
    "        # self.accuracy = Accuracy(task='multiclass', num_classes=num_classes)\n",
    "        self.train_acc = torchmetrics.Accuracy(num_classes = num_classes, task='multiclass')\n",
    "        self.valid_acc = torchmetrics.Accuracy(num_classes = num_classes, task='multiclass')\n",
    "        self.test_acc = torchmetrics.Accuracy(num_classes = num_classes, task='multiclass')\n",
    " \n",
    "    def forward(self, x):\n",
    "        return self.model(x)\n",
    "\n",
    "    def _shared_step(self, batch):\n",
    "        x, y = batch\n",
    "        logits = self(x)\n",
    "        loss = self.criterion(logits, y)\n",
    "        preds = logits.argmax(1)\n",
    "        out = (loss, y, preds)\n",
    "        # assert all(v is not None for v in out), \"shared_step devolvió None\"\n",
    "        return out\n",
    "    \n",
    "    def training_step(self, batch, batch_idx):\n",
    "        # x, y = batch\n",
    "        # logits = self(x)\n",
    "        # loss = self.criterion(logits, y)\n",
    "        # acc = self.accuracy(logits, y)\n",
    "        # self.log('train_loss', loss, on_step=False, on_epoch=True)\n",
    "        # self.log('train_acc', acc, on_step=False, on_epoch=True)\n",
    "        # return loss\n",
    "\n",
    "        loss, y, pred = self._shared_step(batch)\n",
    "        # self.log(\"train_loss\", loss)\n",
    "        self.log('train_loss', loss, on_step=False, on_epoch=True)\n",
    "\n",
    "        # Do another forward pass in .eval() mode to compute accuracy\n",
    "        # while accounting for Dropout, BatchNorm etc. behavior\n",
    "        # during evaluation (inference)\n",
    "        self.model.eval()\n",
    "        with torch.no_grad():\n",
    "            _, y, pred = self._shared_step(batch)\n",
    "        self.train_acc(pred, y)\n",
    "        self.log(\"train_acc\", self.train_acc, on_epoch=True, on_step=False)\n",
    "        self.model.train()\n",
    " \n",
    "    def validation_step(self, batch, batch_idx):\n",
    "        # x, y = batch\n",
    "        # logits = self(x)\n",
    "        # loss = self.criterion(logits, y)\n",
    "        # acc = self.accuracy(logits, y)\n",
    "        # self.log('valid_loss', loss, prog_bar=True)\n",
    "        # self.log('valid_acc', acc, prog_bar=True)\n",
    "\n",
    "        loss, y, pred = self._shared_step(batch)\n",
    "        self.log(\"valid_loss\", loss)\n",
    "        self.valid_acc(pred, y)\n",
    "        self.log(\"valid_acc\", self.valid_acc, on_epoch=True, on_step=False, prog_bar=True)\n",
    "\n",
    "    def test_step(self, batch, batch_idx):\n",
    "        # loss, true_labels, predicted_labels = self._shared_step(batch)\n",
    "        # self.test_acc(predicted_labels, true_labels)\n",
    "        # self.log(\"test_acc\", self.test_acc, on_epoch=True, on_step=False)\n",
    "        loss, y, pred = self._shared_step(batch)\n",
    "        self.test_acc(pred, y)\n",
    "        self.log(\"test_acc\", self.test_acc, on_epoch=True, on_step=False)\n",
    " \n",
    "    def configure_optimizers(self):\n",
    "        return optim.Adam(self.model.fc.parameters(), lr=self.hparams.learning_rate)\n",
    "        # Only fine-tune the classifier (faster), or use self.parameters() to fine-tune whole network"
   ]
  },
  {
   "cell_type": "code",
   "execution_count": 17,
   "id": "4381425d",
   "metadata": {},
   "outputs": [
    {
     "name": "stderr",
     "output_type": "stream",
     "text": [
      "/usr/local/lib/python3.10/dist-packages/torchvision/models/_utils.py:208: UserWarning: The parameter 'pretrained' is deprecated since 0.13 and may be removed in the future, please use 'weights' instead.\n",
      "  warnings.warn(\n",
      "/usr/local/lib/python3.10/dist-packages/torchvision/models/_utils.py:223: UserWarning: Arguments other than a weight enum or `None` for 'weights' are deprecated since 0.13 and may be removed in the future. The current behavior is equivalent to passing `weights=ResNet50_Weights.IMAGENET1K_V1`. You can also use `weights=ResNet50_Weights.DEFAULT` to get the most up-to-date weights.\n",
      "  warnings.warn(msg)\n"
     ]
    },
    {
     "name": "stderr",
     "output_type": "stream",
     "text": [
      "INFO:pytorch_lightning.utilities.rank_zero:Trainer will use only 1 of 4 GPUs because it is running inside an interactive / notebook environment. You may try to set `Trainer(devices=4)` but please note that multi-GPU inside interactive / notebook environments is considered experimental and unstable. Your mileage may vary.\n",
      "INFO:pytorch_lightning.utilities.rank_zero:GPU available: True (cuda), used: True\n",
      "INFO:pytorch_lightning.utilities.rank_zero:TPU available: False, using: 0 TPU cores\n",
      "INFO:pytorch_lightning.utilities.rank_zero:HPU available: False, using: 0 HPUs\n",
      "INFO:pytorch_lightning.accelerators.cuda:LOCAL_RANK: 0 - CUDA_VISIBLE_DEVICES: [0,1,2,3]\n"
     ]
    },
    {
     "name": "stdout",
     "output_type": "stream",
     "text": [
      "Muestras de entrenamiento: 100\n",
      "Muestras de validación: 50\n",
      "Muestras de evaluación: 10000\n"
     ]
    },
    {
     "data": {
      "text/html": [
       "<pre style=\"white-space:pre;overflow-x:auto;line-height:normal;font-family:Menlo,'DejaVu Sans Mono',consolas,'Courier New',monospace\">┏━━━┳━━━━━━━━━━━┳━━━━━━━━━━━━━━━━━━━━┳━━━━━━━━┳━━━━━━━┓\n",
       "┃<span style=\"color: #800080; text-decoration-color: #800080; font-weight: bold\">   </span>┃<span style=\"color: #800080; text-decoration-color: #800080; font-weight: bold\"> Name      </span>┃<span style=\"color: #800080; text-decoration-color: #800080; font-weight: bold\"> Type               </span>┃<span style=\"color: #800080; text-decoration-color: #800080; font-weight: bold\"> Params </span>┃<span style=\"color: #800080; text-decoration-color: #800080; font-weight: bold\"> Mode  </span>┃\n",
       "┡━━━╇━━━━━━━━━━━╇━━━━━━━━━━━━━━━━━━━━╇━━━━━━━━╇━━━━━━━┩\n",
       "│<span style=\"color: #7f7f7f; text-decoration-color: #7f7f7f\"> 0 </span>│ model     │ ResNet             │ 23.5 M │ train │\n",
       "│<span style=\"color: #7f7f7f; text-decoration-color: #7f7f7f\"> 1 </span>│ criterion │ CrossEntropyLoss   │      0 │ train │\n",
       "│<span style=\"color: #7f7f7f; text-decoration-color: #7f7f7f\"> 2 </span>│ train_acc │ MulticlassAccuracy │      0 │ train │\n",
       "│<span style=\"color: #7f7f7f; text-decoration-color: #7f7f7f\"> 3 </span>│ valid_acc │ MulticlassAccuracy │      0 │ train │\n",
       "│<span style=\"color: #7f7f7f; text-decoration-color: #7f7f7f\"> 4 </span>│ test_acc  │ MulticlassAccuracy │      0 │ train │\n",
       "└───┴───────────┴────────────────────┴────────┴───────┘\n",
       "</pre>\n"
      ],
      "text/plain": [
       "┏━━━┳━━━━━━━━━━━┳━━━━━━━━━━━━━━━━━━━━┳━━━━━━━━┳━━━━━━━┓\n",
       "┃\u001b[1;35m \u001b[0m\u001b[1;35m \u001b[0m\u001b[1;35m \u001b[0m┃\u001b[1;35m \u001b[0m\u001b[1;35mName     \u001b[0m\u001b[1;35m \u001b[0m┃\u001b[1;35m \u001b[0m\u001b[1;35mType              \u001b[0m\u001b[1;35m \u001b[0m┃\u001b[1;35m \u001b[0m\u001b[1;35mParams\u001b[0m\u001b[1;35m \u001b[0m┃\u001b[1;35m \u001b[0m\u001b[1;35mMode \u001b[0m\u001b[1;35m \u001b[0m┃\n",
       "┡━━━╇━━━━━━━━━━━╇━━━━━━━━━━━━━━━━━━━━╇━━━━━━━━╇━━━━━━━┩\n",
       "│\u001b[2m \u001b[0m\u001b[2m0\u001b[0m\u001b[2m \u001b[0m│ model     │ ResNet             │ 23.5 M │ train │\n",
       "│\u001b[2m \u001b[0m\u001b[2m1\u001b[0m\u001b[2m \u001b[0m│ criterion │ CrossEntropyLoss   │      0 │ train │\n",
       "│\u001b[2m \u001b[0m\u001b[2m2\u001b[0m\u001b[2m \u001b[0m│ train_acc │ MulticlassAccuracy │      0 │ train │\n",
       "│\u001b[2m \u001b[0m\u001b[2m3\u001b[0m\u001b[2m \u001b[0m│ valid_acc │ MulticlassAccuracy │      0 │ train │\n",
       "│\u001b[2m \u001b[0m\u001b[2m4\u001b[0m\u001b[2m \u001b[0m│ test_acc  │ MulticlassAccuracy │      0 │ train │\n",
       "└───┴───────────┴────────────────────┴────────┴───────┘\n"
      ]
     },
     "metadata": {},
     "output_type": "display_data"
    },
    {
     "data": {
      "text/html": [
       "<pre style=\"white-space:pre;overflow-x:auto;line-height:normal;font-family:Menlo,'DejaVu Sans Mono',consolas,'Courier New',monospace\"><span style=\"font-weight: bold\">Trainable params</span>: 20.5 K                                                                                           \n",
       "<span style=\"font-weight: bold\">Non-trainable params</span>: 23.5 M                                                                                       \n",
       "<span style=\"font-weight: bold\">Total params</span>: 23.5 M                                                                                               \n",
       "<span style=\"font-weight: bold\">Total estimated model params size (MB)</span>: 94                                                                         \n",
       "<span style=\"font-weight: bold\">Modules in train mode</span>: 155                                                                                         \n",
       "<span style=\"font-weight: bold\">Modules in eval mode</span>: 0                                                                                            \n",
       "</pre>\n"
      ],
      "text/plain": [
       "\u001b[1mTrainable params\u001b[0m: 20.5 K                                                                                           \n",
       "\u001b[1mNon-trainable params\u001b[0m: 23.5 M                                                                                       \n",
       "\u001b[1mTotal params\u001b[0m: 23.5 M                                                                                               \n",
       "\u001b[1mTotal estimated model params size (MB)\u001b[0m: 94                                                                         \n",
       "\u001b[1mModules in train mode\u001b[0m: 155                                                                                         \n",
       "\u001b[1mModules in eval mode\u001b[0m: 0                                                                                            \n"
      ]
     },
     "metadata": {},
     "output_type": "display_data"
    },
    {
     "data": {
      "application/vnd.jupyter.widget-view+json": {
       "model_id": "3bd7edff739f4175b80d29f2351bc510",
       "version_major": 2,
       "version_minor": 0
      },
      "text/plain": [
       "Output()"
      ]
     },
     "metadata": {},
     "output_type": "display_data"
    },
    {
     "data": {
      "text/html": [
       "<pre style=\"white-space:pre;overflow-x:auto;line-height:normal;font-family:Menlo,'DejaVu Sans Mono',consolas,'Courier New',monospace\">/home/eaguayo/.local/lib/python3.10/site-packages/pytorch_lightning/loops/fit_loop.py:310: The number of training \n",
       "batches (25) is smaller than the logging interval Trainer(log_every_n_steps=100). Set a lower value for \n",
       "log_every_n_steps if you want to see logs for the training epoch.\n",
       "</pre>\n"
      ],
      "text/plain": [
       "/home/eaguayo/.local/lib/python3.10/site-packages/pytorch_lightning/loops/fit_loop.py:310: The number of training \n",
       "batches (25) is smaller than the logging interval Trainer(log_every_n_steps=100). Set a lower value for \n",
       "log_every_n_steps if you want to see logs for the training epoch.\n"
      ]
     },
     "metadata": {},
     "output_type": "display_data"
    },
    {
     "data": {
      "text/html": [
       "<pre style=\"white-space:pre;overflow-x:auto;line-height:normal;font-family:Menlo,'DejaVu Sans Mono',consolas,'Courier New',monospace\">/home/eaguayo/.local/lib/python3.10/site-packages/pytorch_lightning/loops/optimization/automatic.py:134: \n",
       "`training_step` returned `None`. If this was on purpose, ignore this warning...\n",
       "</pre>\n"
      ],
      "text/plain": [
       "/home/eaguayo/.local/lib/python3.10/site-packages/pytorch_lightning/loops/optimization/automatic.py:134: \n",
       "`training_step` returned `None`. If this was on purpose, ignore this warning...\n"
      ]
     },
     "metadata": {},
     "output_type": "display_data"
    },
    {
     "name": "stderr",
     "output_type": "stream",
     "text": [
      "INFO:pytorch_lightning.callbacks.early_stopping:Metric valid_loss improved. New best score: 2.415\n"
     ]
    },
    {
     "data": {
      "text/html": [
       "<pre style=\"white-space:pre;overflow-x:auto;line-height:normal;font-family:Menlo,'DejaVu Sans Mono',consolas,'Courier New',monospace\"></pre>\n"
      ],
      "text/plain": []
     },
     "metadata": {},
     "output_type": "display_data"
    },
    {
     "data": {
      "text/html": [
       "<pre style=\"white-space:pre;overflow-x:auto;line-height:normal;font-family:Menlo,'DejaVu Sans Mono',consolas,'Courier New',monospace\">\n",
       "</pre>\n"
      ],
      "text/plain": [
       "\n"
      ]
     },
     "metadata": {},
     "output_type": "display_data"
    },
    {
     "data": {
      "application/vnd.jupyter.widget-view+json": {
       "model_id": "25a7fd4e11d7481b88e95e45cd318042",
       "version_major": 2,
       "version_minor": 0
      },
      "text/plain": [
       "Output()"
      ]
     },
     "metadata": {},
     "output_type": "display_data"
    },
    {
     "data": {
      "text/html": [
       "<pre style=\"white-space:pre;overflow-x:auto;line-height:normal;font-family:Menlo,'DejaVu Sans Mono',consolas,'Courier New',monospace\"></pre>\n"
      ],
      "text/plain": []
     },
     "metadata": {},
     "output_type": "display_data"
    },
    {
     "data": {
      "text/html": [
       "<pre style=\"white-space:pre;overflow-x:auto;line-height:normal;font-family:Menlo,'DejaVu Sans Mono',consolas,'Courier New',monospace\">\n",
       "</pre>\n"
      ],
      "text/plain": [
       "\n"
      ]
     },
     "metadata": {},
     "output_type": "display_data"
    },
    {
     "data": {
      "application/vnd.jupyter.widget-view+json": {
       "model_id": "e83b24994cc748088ed084b7e4683220",
       "version_major": 2,
       "version_minor": 0
      },
      "text/plain": [
       "Output()"
      ]
     },
     "metadata": {},
     "output_type": "display_data"
    },
    {
     "data": {
      "text/html": [
       "<pre style=\"white-space:pre;overflow-x:auto;line-height:normal;font-family:Menlo,'DejaVu Sans Mono',consolas,'Courier New',monospace\"></pre>\n"
      ],
      "text/plain": []
     },
     "metadata": {},
     "output_type": "display_data"
    },
    {
     "data": {
      "text/html": [
       "<pre style=\"white-space:pre;overflow-x:auto;line-height:normal;font-family:Menlo,'DejaVu Sans Mono',consolas,'Courier New',monospace\">\n",
       "</pre>\n"
      ],
      "text/plain": [
       "\n"
      ]
     },
     "metadata": {},
     "output_type": "display_data"
    },
    {
     "data": {
      "application/vnd.jupyter.widget-view+json": {
       "model_id": "2eab43a2dc714487a609a6b948798737",
       "version_major": 2,
       "version_minor": 0
      },
      "text/plain": [
       "Output()"
      ]
     },
     "metadata": {},
     "output_type": "display_data"
    },
    {
     "name": "stderr",
     "output_type": "stream",
     "text": [
      "INFO:pytorch_lightning.callbacks.early_stopping:Metric valid_loss improved by 0.012 >= min_delta = 0.0. New best score: 2.402\n"
     ]
    },
    {
     "data": {
      "text/html": [
       "<pre style=\"white-space:pre;overflow-x:auto;line-height:normal;font-family:Menlo,'DejaVu Sans Mono',consolas,'Courier New',monospace\"></pre>\n"
      ],
      "text/plain": []
     },
     "metadata": {},
     "output_type": "display_data"
    },
    {
     "data": {
      "text/html": [
       "<pre style=\"white-space:pre;overflow-x:auto;line-height:normal;font-family:Menlo,'DejaVu Sans Mono',consolas,'Courier New',monospace\">\n",
       "</pre>\n"
      ],
      "text/plain": [
       "\n"
      ]
     },
     "metadata": {},
     "output_type": "display_data"
    },
    {
     "data": {
      "application/vnd.jupyter.widget-view+json": {
       "model_id": "8940ad56b4ee4b61a133ee6f91d6eb32",
       "version_major": 2,
       "version_minor": 0
      },
      "text/plain": [
       "Output()"
      ]
     },
     "metadata": {},
     "output_type": "display_data"
    },
    {
     "name": "stderr",
     "output_type": "stream",
     "text": [
      "INFO:pytorch_lightning.callbacks.early_stopping:Metric valid_loss improved by 0.011 >= min_delta = 0.0. New best score: 2.391\n",
      "INFO:pytorch_lightning.utilities.rank_zero:`Trainer.fit` stopped: `max_epochs=5` reached.\n"
     ]
    },
    {
     "data": {
      "text/html": [
       "<pre style=\"white-space:pre;overflow-x:auto;line-height:normal;font-family:Menlo,'DejaVu Sans Mono',consolas,'Courier New',monospace\"></pre>\n"
      ],
      "text/plain": []
     },
     "metadata": {},
     "output_type": "display_data"
    },
    {
     "data": {
      "text/html": [
       "<pre style=\"white-space:pre;overflow-x:auto;line-height:normal;font-family:Menlo,'DejaVu Sans Mono',consolas,'Courier New',monospace\">\n",
       "</pre>\n"
      ],
      "text/plain": [
       "\n"
      ]
     },
     "metadata": {},
     "output_type": "display_data"
    },
    {
     "name": "stderr",
     "output_type": "stream",
     "text": [
      "/home/eaguayo/.local/lib/python3.10/site-packages/pytorch_lightning/callbacks/model_checkpoint.py:701: Checkpoint directory logs/complex-cnn-fmnist/version_9/checkpoints exists and is not empty.\n",
      "INFO:pytorch_lightning.accelerators.cuda:LOCAL_RANK: 0 - CUDA_VISIBLE_DEVICES: [0,1,2,3]\n"
     ]
    },
    {
     "name": "stdout",
     "output_type": "stream",
     "text": [
      "Muestras de entrenamiento: 100\n",
      "Muestras de validación: 50\n",
      "Muestras de evaluación: 10000\n"
     ]
    },
    {
     "data": {
      "text/html": [
       "<pre style=\"white-space:pre;overflow-x:auto;line-height:normal;font-family:Menlo,'DejaVu Sans Mono',consolas,'Courier New',monospace\">┏━━━┳━━━━━━━━━━━┳━━━━━━━━━━━━━━━━━━━━┳━━━━━━━━┳━━━━━━━┓\n",
       "┃<span style=\"color: #800080; text-decoration-color: #800080; font-weight: bold\">   </span>┃<span style=\"color: #800080; text-decoration-color: #800080; font-weight: bold\"> Name      </span>┃<span style=\"color: #800080; text-decoration-color: #800080; font-weight: bold\"> Type               </span>┃<span style=\"color: #800080; text-decoration-color: #800080; font-weight: bold\"> Params </span>┃<span style=\"color: #800080; text-decoration-color: #800080; font-weight: bold\"> Mode  </span>┃\n",
       "┡━━━╇━━━━━━━━━━━╇━━━━━━━━━━━━━━━━━━━━╇━━━━━━━━╇━━━━━━━┩\n",
       "│<span style=\"color: #7f7f7f; text-decoration-color: #7f7f7f\"> 0 </span>│ model     │ ResNet             │ 23.5 M │ train │\n",
       "│<span style=\"color: #7f7f7f; text-decoration-color: #7f7f7f\"> 1 </span>│ criterion │ CrossEntropyLoss   │      0 │ train │\n",
       "│<span style=\"color: #7f7f7f; text-decoration-color: #7f7f7f\"> 2 </span>│ train_acc │ MulticlassAccuracy │      0 │ train │\n",
       "│<span style=\"color: #7f7f7f; text-decoration-color: #7f7f7f\"> 3 </span>│ valid_acc │ MulticlassAccuracy │      0 │ train │\n",
       "│<span style=\"color: #7f7f7f; text-decoration-color: #7f7f7f\"> 4 </span>│ test_acc  │ MulticlassAccuracy │      0 │ train │\n",
       "└───┴───────────┴────────────────────┴────────┴───────┘\n",
       "</pre>\n"
      ],
      "text/plain": [
       "┏━━━┳━━━━━━━━━━━┳━━━━━━━━━━━━━━━━━━━━┳━━━━━━━━┳━━━━━━━┓\n",
       "┃\u001b[1;35m \u001b[0m\u001b[1;35m \u001b[0m\u001b[1;35m \u001b[0m┃\u001b[1;35m \u001b[0m\u001b[1;35mName     \u001b[0m\u001b[1;35m \u001b[0m┃\u001b[1;35m \u001b[0m\u001b[1;35mType              \u001b[0m\u001b[1;35m \u001b[0m┃\u001b[1;35m \u001b[0m\u001b[1;35mParams\u001b[0m\u001b[1;35m \u001b[0m┃\u001b[1;35m \u001b[0m\u001b[1;35mMode \u001b[0m\u001b[1;35m \u001b[0m┃\n",
       "┡━━━╇━━━━━━━━━━━╇━━━━━━━━━━━━━━━━━━━━╇━━━━━━━━╇━━━━━━━┩\n",
       "│\u001b[2m \u001b[0m\u001b[2m0\u001b[0m\u001b[2m \u001b[0m│ model     │ ResNet             │ 23.5 M │ train │\n",
       "│\u001b[2m \u001b[0m\u001b[2m1\u001b[0m\u001b[2m \u001b[0m│ criterion │ CrossEntropyLoss   │      0 │ train │\n",
       "│\u001b[2m \u001b[0m\u001b[2m2\u001b[0m\u001b[2m \u001b[0m│ train_acc │ MulticlassAccuracy │      0 │ train │\n",
       "│\u001b[2m \u001b[0m\u001b[2m3\u001b[0m\u001b[2m \u001b[0m│ valid_acc │ MulticlassAccuracy │      0 │ train │\n",
       "│\u001b[2m \u001b[0m\u001b[2m4\u001b[0m\u001b[2m \u001b[0m│ test_acc  │ MulticlassAccuracy │      0 │ train │\n",
       "└───┴───────────┴────────────────────┴────────┴───────┘\n"
      ]
     },
     "metadata": {},
     "output_type": "display_data"
    },
    {
     "data": {
      "text/html": [
       "<pre style=\"white-space:pre;overflow-x:auto;line-height:normal;font-family:Menlo,'DejaVu Sans Mono',consolas,'Courier New',monospace\"><span style=\"font-weight: bold\">Trainable params</span>: 20.5 K                                                                                           \n",
       "<span style=\"font-weight: bold\">Non-trainable params</span>: 23.5 M                                                                                       \n",
       "<span style=\"font-weight: bold\">Total params</span>: 23.5 M                                                                                               \n",
       "<span style=\"font-weight: bold\">Total estimated model params size (MB)</span>: 94                                                                         \n",
       "<span style=\"font-weight: bold\">Modules in train mode</span>: 155                                                                                         \n",
       "<span style=\"font-weight: bold\">Modules in eval mode</span>: 0                                                                                            \n",
       "</pre>\n"
      ],
      "text/plain": [
       "\u001b[1mTrainable params\u001b[0m: 20.5 K                                                                                           \n",
       "\u001b[1mNon-trainable params\u001b[0m: 23.5 M                                                                                       \n",
       "\u001b[1mTotal params\u001b[0m: 23.5 M                                                                                               \n",
       "\u001b[1mTotal estimated model params size (MB)\u001b[0m: 94                                                                         \n",
       "\u001b[1mModules in train mode\u001b[0m: 155                                                                                         \n",
       "\u001b[1mModules in eval mode\u001b[0m: 0                                                                                            \n"
      ]
     },
     "metadata": {},
     "output_type": "display_data"
    },
    {
     "data": {
      "application/vnd.jupyter.widget-view+json": {
       "model_id": "e3e73ae05c904c1a9ed88231782fa74c",
       "version_major": 2,
       "version_minor": 0
      },
      "text/plain": [
       "Output()"
      ]
     },
     "metadata": {},
     "output_type": "display_data"
    },
    {
     "name": "stderr",
     "output_type": "stream",
     "text": [
      "INFO:pytorch_lightning.utilities.rank_zero:`Trainer.fit` stopped: `max_epochs=5` reached.\n"
     ]
    },
    {
     "data": {
      "text/html": [
       "<pre style=\"white-space:pre;overflow-x:auto;line-height:normal;font-family:Menlo,'DejaVu Sans Mono',consolas,'Courier New',monospace\"></pre>\n"
      ],
      "text/plain": []
     },
     "metadata": {},
     "output_type": "display_data"
    },
    {
     "data": {
      "text/html": [
       "<pre style=\"white-space:pre;overflow-x:auto;line-height:normal;font-family:Menlo,'DejaVu Sans Mono',consolas,'Courier New',monospace\">\n",
       "</pre>\n"
      ],
      "text/plain": [
       "\n"
      ]
     },
     "metadata": {},
     "output_type": "display_data"
    },
    {
     "name": "stdout",
     "output_type": "stream",
     "text": [
      "Tiempo de entrenamiento en minutos: 0.01\n"
     ]
    }
   ],
   "source": [
    "# Instantiate model\n",
    "pytorch_model = ResNet50TransferLearning(num_classes=10, learning_rate=1e-3)\n",
    "pytorch_model\n",
    "\n",
    "# Trainer\n",
    "trainer = pl.Trainer(\n",
    "    max_epochs=5,\n",
    "    accelerator='gpu' if torch.cuda.is_available() else 'cpu',\n",
    "    devices='auto',\n",
    "    log_every_n_steps=10,\n",
    "    logger=logger,\n",
    "    callbacks=[callback_check, callback_tqdm, early_stop_callback]\n",
    ")\n",
    "\n",
    "datamodule = FMINST_DataModule()\n",
    "\n",
    "# Train\n",
    "trainer.fit(pytorch_model, datamodule=datamodule )\n",
    "\n",
    "\n",
    "start_time = time.time()\n",
    "trainer.fit(model = pytorch_model, datamodule = data_module)\n",
    "\n",
    "runtime = (time.time() - start_time) / 60\n",
    "print(f\"Tiempo de entrenamiento en minutos: {runtime:.2f}\")"
   ]
  },
  {
   "cell_type": "markdown",
   "id": "0a6b0775",
   "metadata": {},
   "source": [
    "## Graficamos las curvas de aprendizaje del modelo"
   ]
  },
  {
   "cell_type": "code",
   "execution_count": 18,
   "id": "247104b3",
   "metadata": {},
   "outputs": [
    {
     "name": "stdout",
     "output_type": "stream",
     "text": [
      "[{'epoch': 0, 'step': 24.0, 'train_acc': 0.1400000005960464, 'train_loss': 2.3170430660247803, 'valid_acc': 0.0399999991059303, 'valid_loss': 2.414785385131836}, {'epoch': 1, 'step': 49.0, 'train_acc': 0.1500000059604644, 'train_loss': 2.346522808074951, 'valid_acc': 0.0399999991059303, 'valid_loss': 2.42057728767395}, {'epoch': 2, 'step': 74.0, 'train_acc': 0.0700000002980232, 'train_loss': 2.3433315753936768, 'valid_acc': 0.0399999991059303, 'valid_loss': 2.4156863689422607}, {'epoch': 3, 'step': 99.0, 'train_acc': 0.1000000014901161, 'train_loss': 2.355445384979248, 'valid_acc': 0.0599999986588954, 'valid_loss': 2.402336359024048}, {'epoch': 4, 'step': 124.0, 'train_acc': 0.1500000059604644, 'train_loss': 2.334005355834961, 'valid_acc': 0.0599999986588954, 'valid_loss': 2.390862941741944}]\n"
     ]
    },
    {
     "data": {
      "image/png": "[encoded data removed]",
      "text/plain": [
       "<Figure size 640x480 with 1 Axes>"
      ]
     },
     "metadata": {},
     "output_type": "display_data"
    },
    {
     "data": {
      "image/png": "[encoded data removed]",
      "text/plain": [
       "<Figure size 640x480 with 1 Axes>"
      ]
     },
     "metadata": {},
     "output_type": "display_data"
    }
   ],
   "source": [
    "metrics = pd.read_csv(f\"{trainer.logger.log_dir}/metrics.csv\")\n",
    "\n",
    "aggreg_metrics = []\n",
    "agg_col = \"epoch\"\n",
    "for i, dfg in metrics.groupby(agg_col):\n",
    "    agg = dict(dfg.mean())\n",
    "    agg[agg_col] = i\n",
    "    aggreg_metrics.append(agg)\n",
    "\n",
    "print(aggreg_metrics)\n",
    "\n",
    "df_metrics = pd.DataFrame(aggreg_metrics)\n",
    "df_metrics[[\"train_loss\", \"valid_loss\"]].plot(\n",
    "    grid=True, legend=True, xlabel=\"Epoch\", ylabel=\"Loss\"\n",
    ")\n",
    "df_metrics[[\"train_acc\", \"valid_acc\"]].plot(\n",
    "    grid=True, legend=True, xlabel=\"Epoch\", ylabel=\"ACC\"\n",
    ")\n",
    "\n",
    "plt.show()"
   ]
  },
  {
   "cell_type": "markdown",
   "id": "69de3b4f",
   "metadata": {},
   "source": [
    "## Evaluamos el mejor modelo en el grupo de test"
   ]
  },
  {
   "cell_type": "code",
   "execution_count": 19,
   "id": "31ab6453",
   "metadata": {},
   "outputs": [
    {
     "name": "stderr",
     "output_type": "stream",
     "text": [
      "INFO:pytorch_lightning.utilities.rank_zero:Restoring states from the checkpoint path at logs/complex-cnn-fmnist/version_9/checkpoints/epoch=3-step=100.ckpt\n",
      "INFO:pytorch_lightning.accelerators.cuda:LOCAL_RANK: 0 - CUDA_VISIBLE_DEVICES: [0,1,2,3]\n",
      "INFO:pytorch_lightning.utilities.rank_zero:Loaded model weights from the checkpoint at logs/complex-cnn-fmnist/version_9/checkpoints/epoch=3-step=100.ckpt\n"
     ]
    },
    {
     "name": "stdout",
     "output_type": "stream",
     "text": [
      "Muestras de entrenamiento: 100\n",
      "Muestras de validación: 50\n",
      "Muestras de evaluación: 10000\n"
     ]
    },
    {
     "data": {
      "application/vnd.jupyter.widget-view+json": {
       "model_id": "8174e4375f774a45a688a9d683da985c",
       "version_major": 2,
       "version_minor": 0
      },
      "text/plain": [
       "Output()"
      ]
     },
     "metadata": {},
     "output_type": "display_data"
    },
    {
     "data": {
      "text/html": [
       "<pre style=\"white-space:pre;overflow-x:auto;line-height:normal;font-family:Menlo,'DejaVu Sans Mono',consolas,'Courier New',monospace\">┏━━━━━━━━━━━━━━━━━━━━━━━━━━━┳━━━━━━━━━━━━━━━━━━━━━━━━━━━┓\n",
       "┃<span style=\"font-weight: bold\">        Test metric        </span>┃<span style=\"font-weight: bold\">       DataLoader 0        </span>┃\n",
       "┡━━━━━━━━━━━━━━━━━━━━━━━━━━━╇━━━━━━━━━━━━━━━━━━━━━━━━━━━┩\n",
       "│<span style=\"color: #008080; text-decoration-color: #008080\">         test_acc          </span>│<span style=\"color: #800080; text-decoration-color: #800080\">    0.06679999828338623    </span>│\n",
       "└───────────────────────────┴───────────────────────────┘\n",
       "</pre>\n"
      ],
      "text/plain": [
       "┏━━━━━━━━━━━━━━━━━━━━━━━━━━━┳━━━━━━━━━━━━━━━━━━━━━━━━━━━┓\n",
       "┃\u001b[1m \u001b[0m\u001b[1m       Test metric       \u001b[0m\u001b[1m \u001b[0m┃\u001b[1m \u001b[0m\u001b[1m      DataLoader 0       \u001b[0m\u001b[1m \u001b[0m┃\n",
       "┡━━━━━━━━━━━━━━━━━━━━━━━━━━━╇━━━━━━━━━━━━━━━━━━━━━━━━━━━┩\n",
       "│\u001b[36m \u001b[0m\u001b[36m        test_acc         \u001b[0m\u001b[36m \u001b[0m│\u001b[35m \u001b[0m\u001b[35m   0.06679999828338623   \u001b[0m\u001b[35m \u001b[0m│\n",
       "└───────────────────────────┴───────────────────────────┘\n"
      ]
     },
     "metadata": {},
     "output_type": "display_data"
    },
    {
     "data": {
      "text/html": [
       "<pre style=\"white-space:pre;overflow-x:auto;line-height:normal;font-family:Menlo,'DejaVu Sans Mono',consolas,'Courier New',monospace\"></pre>\n"
      ],
      "text/plain": []
     },
     "metadata": {},
     "output_type": "display_data"
    },
    {
     "data": {
      "text/html": [
       "<pre style=\"white-space:pre;overflow-x:auto;line-height:normal;font-family:Menlo,'DejaVu Sans Mono',consolas,'Courier New',monospace\">\n",
       "</pre>\n"
      ],
      "text/plain": [
       "\n"
      ]
     },
     "metadata": {},
     "output_type": "display_data"
    },
    {
     "data": {
      "text/plain": [
       "[{'test_acc': 0.06679999828338623}]"
      ]
     },
     "execution_count": 19,
     "metadata": {},
     "output_type": "execute_result"
    }
   ],
   "source": [
    "trainer.test(model = pytorch_model, datamodule = data_module, ckpt_path = 'best') # cargamos el mejor checkpoint del modelo"
   ]
  },
  {
   "cell_type": "code",
   "execution_count": null,
   "id": "fba0e134",
   "metadata": {},
   "outputs": [],
   "source": []
  }
 ],
 "metadata": {
  "kernelspec": {
   "display_name": "Python 3",
   "language": "python",
   "name": "python3"
  },
  "language_info": {
   "codemirror_mode": {
    "name": "ipython",
    "version": 3
   },
   "file_extension": ".py",
   "mimetype": "text/x-python",
   "name": "python",
   "nbconvert_exporter": "python",
   "pygments_lexer": "ipython3",
   "version": "3.10.12"
  }
 },
 "nbformat": 4,
 "nbformat_minor": 5
}
